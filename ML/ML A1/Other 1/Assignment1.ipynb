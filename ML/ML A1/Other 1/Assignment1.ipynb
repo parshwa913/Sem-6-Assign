{
 "cells": [
  {
   "cell_type": "code",
   "execution_count": 1,
   "metadata": {},
   "outputs": [],
   "source": [
    "import numpy as np\n",
    "import pandas as pd"
   ]
  },
  {
   "cell_type": "code",
   "execution_count": 2,
   "metadata": {},
   "outputs": [],
   "source": [
    "m_data=np.random.normal(166,5,1000)\n",
    "f_data=np.random.normal(152,5,1000)\n",
    "\n",
    "male_data=pd.Series(m_data)\n",
    "female_data=pd.Series(f_data)"
   ]
  },
  {
   "cell_type": "code",
   "execution_count": 3,
   "metadata": {},
   "outputs": [],
   "source": [
    "male_data=np.round(male_data)\n",
    "female_data=np.round(female_data)"
   ]
  },
  {
   "cell_type": "code",
   "execution_count": 4,
   "metadata": {},
   "outputs": [],
   "source": [
    "unique_male=np.unique(male_data)\n",
    "unique_female=np.unique(female_data)"
   ]
  },
  {
   "cell_type": "code",
   "execution_count": 5,
   "metadata": {},
   "outputs": [],
   "source": [
    "male_counts = male_data.value_counts()\n",
    "female_counts = female_data.value_counts()\n"
   ]
  },
  {
   "cell_type": "code",
   "execution_count": 6,
   "metadata": {},
   "outputs": [
    {
     "data": {
      "text/plain": [
       "np.int64(46)"
      ]
     },
     "execution_count": 6,
     "metadata": {},
     "output_type": "execute_result"
    }
   ],
   "source": [
    "male_counts.get(160,0)"
   ]
  },
  {
   "cell_type": "code",
   "execution_count": 7,
   "metadata": {},
   "outputs": [
    {
     "name": "stdout",
     "output_type": "stream",
     "text": [
      "11\n"
     ]
    }
   ],
   "source": [
    "\n",
    "\n",
    "\n",
    "female_mismatch = 0\n",
    "for val in unique_female:\n",
    "    \n",
    "    male_count = male_counts.get(val, 0)\n",
    "    female_count = female_counts.get(val, 0)\n",
    "    \n",
    "    if male_count > female_count:\n",
    "        female_mismatch +=1\n",
    "\n",
    "print(female_mismatch)\n"
   ]
  },
  {
   "cell_type": "code",
   "execution_count": 8,
   "metadata": {},
   "outputs": [
    {
     "name": "stdout",
     "output_type": "stream",
     "text": [
      "9\n"
     ]
    }
   ],
   "source": [
    "\n",
    "male_mismatch = 0\n",
    "\n",
    "for val in unique_male:\n",
    "    \n",
    "    male_count = male_counts.get(val, 0)\n",
    "    female_count = female_counts.get(val, 0)\n",
    "    \n",
    "    if male_count < female_count:\n",
    "        male_mismatch += 1\n",
    "\n",
    "print(male_mismatch)\n"
   ]
  },
  {
   "cell_type": "markdown",
   "metadata": {},
   "source": [
    "Bucket Approach"
   ]
  },
  {
   "cell_type": "code",
   "execution_count": 9,
   "metadata": {},
   "outputs": [],
   "source": [
    "import math"
   ]
  },
  {
   "cell_type": "code",
   "execution_count": 10,
   "metadata": {},
   "outputs": [],
   "source": [
    "male_bucket={}\n",
    "female_bucket={}\n",
    "\n",
    "for val in unique_male:\n",
    "    x=val/2\n",
    "    cnt=male_counts.get(val,0)\n",
    "    if x not in male_bucket:\n",
    "        male_bucket[x] = 0\n",
    "    \n",
    "   \n",
    "    male_bucket[x] += cnt"
   ]
  },
  {
   "cell_type": "code",
   "execution_count": 11,
   "metadata": {},
   "outputs": [],
   "source": [
    "for val in unique_female:\n",
    "    x=val/2\n",
    "    cnt=female_counts.get(val,0)\n",
    "    if x not in female_bucket:\n",
    "        female_bucket[x] = 0\n",
    "    \n",
    "   \n",
    "    female_bucket[x] += cnt"
   ]
  },
  {
   "cell_type": "code",
   "execution_count": 12,
   "metadata": {},
   "outputs": [
    {
     "name": "stdout",
     "output_type": "stream",
     "text": [
      "Male count of Bucket 73.5: 1\n",
      "Female count of Bucket 73.5: 43\n",
      "Male count of Bucket 74.5: 1\n",
      "Female count of Bucket 74.5: 61\n",
      "Male count of Bucket 76.0: 1\n",
      "Female count of Bucket 76.0: 90\n",
      "Male count of Bucket 76.5: 5\n",
      "Female count of Bucket 76.5: 69\n",
      "Male count of Bucket 77.0: 3\n",
      "Female count of Bucket 77.0: 64\n",
      "Male count of Bucket 77.5: 6\n",
      "Female count of Bucket 77.5: 81\n",
      "Male count of Bucket 78.0: 16\n",
      "Female count of Bucket 78.0: 62\n",
      "Male count of Bucket 78.5: 11\n",
      "Female count of Bucket 78.5: 46\n",
      "Male count of Bucket 79.0: 22\n",
      "Female count of Bucket 79.0: 37\n",
      "Male count of Bucket 79.5: 32\n",
      "Female count of Bucket 79.5: 29\n",
      "Male count of Bucket 80.0: 46\n",
      "Female count of Bucket 80.0: 23\n",
      "Male count of Bucket 80.5: 55\n",
      "Female count of Bucket 80.5: 10\n",
      "Male count of Bucket 81.0: 56\n",
      "Female count of Bucket 81.0: 5\n",
      "Male count of Bucket 81.5: 76\n",
      "Female count of Bucket 81.5: 6\n",
      "Male count of Bucket 82.0: 75\n",
      "Female count of Bucket 82.0: 5\n",
      "Male count of Bucket 82.5: 75\n",
      "Female count of Bucket 82.5: 6\n",
      "Male count of Bucket 83.0: 64\n",
      "Female count of Bucket 83.0: 3\n",
      "Male count of Bucket 83.5: 74\n",
      "Female count of Bucket 83.5: 1\n",
      "Male count of Bucket 84.0: 58\n",
      "Female count of Bucket 84.0: 1\n",
      "Male count of Bucket 85.0: 64\n",
      "Female count of Bucket 85.0: 1\n"
     ]
    }
   ],
   "source": [
    "for key,value in male_bucket.items():\n",
    "    if key in female_bucket:\n",
    "        print(f\"Male count of Bucket {key}: {value}\")\n",
    "        print(f\"Female count of Bucket {key}: {female_bucket[key]}\")"
   ]
  },
  {
   "cell_type": "code",
   "execution_count": null,
   "metadata": {},
   "outputs": [],
   "source": []
  }
 ],
 "metadata": {
  "kernelspec": {
   "display_name": "Python 3",
   "language": "python",
   "name": "python3"
  },
  "language_info": {
   "codemirror_mode": {
    "name": "ipython",
    "version": 3
   },
   "file_extension": ".py",
   "mimetype": "text/x-python",
   "name": "python",
   "nbconvert_exporter": "python",
   "pygments_lexer": "ipython3",
   "version": "3.12.8"
  }
 },
 "nbformat": 4,
 "nbformat_minor": 2
}

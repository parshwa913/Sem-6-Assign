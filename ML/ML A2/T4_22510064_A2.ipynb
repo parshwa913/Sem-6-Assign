{
 "cells": [
  {
   "cell_type": "code",
   "execution_count": null,
   "metadata": {},
   "outputs": [],
   "source": [
    "import numpy as np\n",
    "import matplotlib.pyplot as plt\n",
    "import seaborn as sns\n",
    "from scipy.stats import powerlaw, geom, zscore, rankdata\n",
    "from sklearn.preprocessing import quantile_transform"
   ]
  },
  {
   "cell_type": "code",
   "execution_count": null,
   "metadata": {},
   "outputs": [],
   "source": [
    "\n",
    "# Function to generate random data\n",
    "def generate_data(size=10000):\n",
    "    B = np.random.normal(5, 2, size)\n",
    "    I = powerlaw.rvs(0.3, size=size)\n",
    "    H = geom.rvs(0.005, size=size)\n",
    "    return B, I, H"
   ]
  },
  {
   "cell_type": "code",
   "execution_count": null,
   "metadata": {},
   "outputs": [],
   "source": [
    "# Function to plot boxplots with custom colors\n",
    "def plot_boxplot(data, labels, title):\n",
    "    plt.figure(figsize=(10, 5))\n",
    "    colors = ['#FFD700', '#90EE90', '#D8BFD8']  \n",
    "    sns.boxplot(data=data, palette=colors, linewidth=2, width=0.6)\n",
    "    plt.xticks(range(len(labels)), labels, fontsize=12, fontweight='bold')\n",
    "    plt.title(title, fontsize=14, fontweight='bold', color='black')\n",
    "    plt.grid(True, linestyle='-.', alpha=0.8)\n",
    "    "
   ]
  },
  {
   "cell_type": "code",
   "execution_count": null,
   "metadata": {},
   "outputs": [],
   "source": [
    "\n",
    "# Function to plot histograms\n",
    "def plot_histogram(original, transformed, title):\n",
    "    plt.figure(figsize=(10, 5))\n",
    "    sns.histplot(original, bins=50, color='purple', kde=True, label='Original', alpha=0.5)\n",
    "    sns.histplot(transformed, bins=50, color='green', kde=True, label='Transformed', alpha=0.5)\n",
    "    plt.title(title, fontsize=14, fontweight='bold', color='black')\n",
    "    plt.legend()\n",
    "    plt.grid(True, linestyle='-.', alpha=0.8)\n",
    "    \n"
   ]
  },
  {
   "cell_type": "code",
   "execution_count": null,
   "metadata": {},
   "outputs": [],
   "source": [
    "# Function to normalize data\n",
    "def normalize_data(B, I, H):\n",
    "    normalizations = {\n",
    "        \"Max\": lambda x: x / x.max(),\n",
    "        \"Sum\": lambda x: x / x.sum(),\n",
    "        \"Z-Score\": zscore,\n",
    "        \"Percentile\": lambda x: rankdata(x) / len(x),\n",
    "        \"Median Matching\": lambda x, m1: x * (m1 / np.median(x)),\n",
    "        \"Quantile\": lambda x: quantile_transform(x.reshape(-1, 1), axis=0, copy=True).flatten()\n",
    "    }\n",
    "    \n",
    "    medians = np.median([B, I, H], axis=1)  \n",
    "    m1 = np.mean(medians)  \n",
    "    \n",
    "    transformed_data = {}\n",
    "    \n",
    "    for name, func in normalizations.items():\n",
    "        if name == \"Median Matching\":\n",
    "            transformed_data[name] = (func(B, m1), func(I, m1), func(H, m1))\n",
    "        else:\n",
    "            transformed_data[name] = (func(B), func(I), func(H))\n",
    "    \n",
    "    return transformed_data\n"
   ]
  },
  {
   "cell_type": "code",
   "execution_count": null,
   "metadata": {},
   "outputs": [],
   "source": [
    "\n",
    "# Generate original data\n",
    "B, I, H = generate_data()\n"
   ]
  },
  {
   "cell_type": "code",
   "execution_count": null,
   "metadata": {},
   "outputs": [],
   "source": [
    "\n",
    "# Plot the original data distributions using boxplots\n",
    "plot_boxplot([B, I, H], ['B (Gaussian)', 'I (Power Law)', 'H (Geometric)'], 'Original Variable Distribution')\n"
   ]
  },
  {
   "cell_type": "code",
   "execution_count": null,
   "metadata": {},
   "outputs": [],
   "source": [
    "\n",
    "# Normalize the data using various methods\n",
    "transformed_data = normalize_data(B, I, H)\n"
   ]
  },
  {
   "cell_type": "code",
   "execution_count": null,
   "metadata": {},
   "outputs": [],
   "source": [
    "\n",
    "# Plot histograms and boxplots for each transformed data\n",
    "for name, (B_new, I_new, H_new) in transformed_data.items():\n",
    "    plot_histogram(B, B_new, 'B - ' + name + ' Normalization')\n",
    "    plot_histogram(I, I_new, 'I - ' + name + ' Normalization')\n",
    "    plot_histogram(H, H_new, 'H - ' + name + ' Normalization')\n",
    "    plot_boxplot([B_new, I_new, H_new], ['B', 'I', 'H'], 'Box Plot - ' + name + ' Normalization')\n"
   ]
  }
 ],
 "metadata": {
  "kernelspec": {
   "display_name": "Python 3",
   "language": "python",
   "name": "python3"
  },
  "language_info": {
   "codemirror_mode": {
    "name": "ipython",
    "version": 3
   },
   "file_extension": ".py",
   "mimetype": "text/x-python",
   "name": "python",
   "nbconvert_exporter": "python",
   "pygments_lexer": "ipython3",
   "version": "3.12.9"
  }
 },
 "nbformat": 4,
 "nbformat_minor": 2
}
